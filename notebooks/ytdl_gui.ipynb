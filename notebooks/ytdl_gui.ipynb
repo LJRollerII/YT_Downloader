{
 "cells": [
  {
   "cell_type": "code",
   "execution_count": 12,
   "id": "f28fe351",
   "metadata": {},
   "outputs": [],
   "source": [
    "from tkinter import *\n",
    "from tkinter import filedialog\n",
    "\n",
    "screen = Tk()\n",
    "title = screen.title('YouTube Downloader')\n",
    "canvas = Canvas(screen, width = 500 , height = 500)\n",
    "canvas.pack()\n",
    "\n",
    "#Image Logo\n",
    "logo_img = PhotoImage(file='../images/yt.png')\n",
    "\n",
    "#Resize image to make it smaller\n",
    "logo_img = logo_img.subsample(10, 10)\n",
    "\n",
    "canvas.create_image(250, 80, image = logo_img)\n",
    "\n",
    "#Link field\n",
    "link_field = Entry(screen, width = 50)\n",
    "link_label = Label(screen, text = \"Enter Download Link:\", font = (\"Arial\", 15))\n",
    "\n",
    "#Select path for saving the file\n",
    "path_label = Label(screen, text = \"Select Path For Download\", font = (\"Arial\", 15))\n",
    "select_btn = Button(screen, text = \"Select\")\n",
    "#Add select button and path label to window\n",
    "canvas.create_window(250, 280, window = path_label)\n",
    "canvas.create_window(250, 330, window = select_btn)\n",
    "\n",
    "#Add wigets to window\n",
    "canvas.create_window(250, 170, window = link_label)\n",
    "canvas.create_window(250, 220, window = link_field)\n",
    "\n",
    "\n",
    "#Download Button\n",
    "download_btn = Button(screen, text = \"Download File\")\n",
    "#Add download button to canvas\n",
    "canvas.create_window(250, 390, window = download_btn)\n",
    "\n",
    "\n",
    "screen.mainloop()"
   ]
  },
  {
   "cell_type": "code",
   "execution_count": null,
   "id": "96f54463",
   "metadata": {},
   "outputs": [],
   "source": []
  }
 ],
 "metadata": {
  "kernelspec": {
   "display_name": "Python 3 (ipykernel)",
   "language": "python",
   "name": "python3"
  },
  "language_info": {
   "codemirror_mode": {
    "name": "ipython",
    "version": 3
   },
   "file_extension": ".py",
   "mimetype": "text/x-python",
   "name": "python",
   "nbconvert_exporter": "python",
   "pygments_lexer": "ipython3",
   "version": "3.9.7"
  }
 },
 "nbformat": 4,
 "nbformat_minor": 5
}
