{
 "cells": [
  {
   "cell_type": "code",
   "execution_count": null,
   "id": "e558c04a",
   "metadata": {},
   "outputs": [],
   "source": [
    "from pytube import YouTube\n",
    "from sys import argv\n",
    "\n",
    "#argv[1] is the first command line argument we give once we are in the program\n",
    "link = argv[1]\n",
    "yt = YouTube(link)\n",
    "\n",
    "print(\"Title:\", yt.title)\n",
    "\n",
    "print(\"View:\", yt.views)\n",
    "\n",
    "yd = yt.streams.get_highest_resolution()\n",
    "\n",
    "#Add Folder Here\n",
    "yd.download('../ytflr')"
   ]
  }
 ],
 "metadata": {
  "kernelspec": {
   "display_name": "Python 3 (ipykernel)",
   "language": "python",
   "name": "python3"
  },
  "language_info": {
   "codemirror_mode": {
    "name": "ipython",
    "version": 3
   },
   "file_extension": ".py",
   "mimetype": "text/x-python",
   "name": "python",
   "nbconvert_exporter": "python",
   "pygments_lexer": "ipython3",
   "version": "3.9.7"
  }
 },
 "nbformat": 4,
 "nbformat_minor": 5
}
